{
 "cells": [
  {
   "cell_type": "markdown",
   "id": "fc511ab0",
   "metadata": {},
   "source": [
    "## Setup"
   ]
  },
  {
   "cell_type": "code",
   "execution_count": 2,
   "id": "24ea21f8",
   "metadata": {},
   "outputs": [],
   "source": [
    "import os\n",
    "os.environ[\"DJANGO_SETTINGS_MODULE\"] = \"bio_showcase.settings\"\n",
    "os.environ[\"DJANGO_ALLOW_ASYNC_UNSAFE\"] = \"true\"\n",
    "import django\n",
    "django.setup()"
   ]
  },
  {
   "cell_type": "code",
   "execution_count": 3,
   "id": "dcdb243a",
   "metadata": {},
   "outputs": [],
   "source": [
    "from django.test.utils import setup_test_environment"
   ]
  },
  {
   "cell_type": "code",
   "execution_count": 4,
   "id": "6838d08a",
   "metadata": {},
   "outputs": [],
   "source": [
    "setup_test_environment()"
   ]
  },
  {
   "cell_type": "markdown",
   "id": "874039fa",
   "metadata": {},
   "source": [
    "Do testing"
   ]
  },
  {
   "cell_type": "code",
   "execution_count": 5,
   "id": "e1670473",
   "metadata": {},
   "outputs": [
    {
     "data": {
      "text/plain": [
       "<django.test.client.Client at 0x1608c30c980>"
      ]
     },
     "execution_count": 5,
     "metadata": {},
     "output_type": "execute_result"
    }
   ],
   "source": [
    "from django.test import Client\n",
    "client = Client()\n",
    "client"
   ]
  },
  {
   "cell_type": "code",
   "execution_count": 6,
   "id": "f5849aef",
   "metadata": {},
   "outputs": [
    {
     "name": "stderr",
     "output_type": "stream",
     "text": [
      "Not Found: /aa\n"
     ]
    },
    {
     "data": {
      "text/plain": [
       "<HttpResponseNotFound status_code=404, \"text/html; charset=utf-8\">"
      ]
     },
     "execution_count": 6,
     "metadata": {},
     "output_type": "execute_result"
    }
   ],
   "source": [
    "# get a response from '/'\n",
    "response = client.get('/aa')\n",
    "response"
   ]
  },
  {
   "cell_type": "code",
   "execution_count": 7,
   "id": "88c42ee7",
   "metadata": {},
   "outputs": [
    {
     "data": {
      "text/plain": [
       "404"
      ]
     },
     "execution_count": 7,
     "metadata": {},
     "output_type": "execute_result"
    }
   ],
   "source": [
    "response.status_code"
   ]
  },
  {
   "cell_type": "code",
   "execution_count": 8,
   "id": "2bcd8dec",
   "metadata": {},
   "outputs": [
    {
     "data": {
      "text/plain": [
       "<TemplateResponse status_code=200, \"text/html; charset=utf-8\">"
      ]
     },
     "execution_count": 8,
     "metadata": {},
     "output_type": "execute_result"
    }
   ],
   "source": [
    "from django.urls import reverse\n",
    "response = client.get(reverse('polls:index'))\n",
    "response"
   ]
  },
  {
   "cell_type": "code",
   "execution_count": 9,
   "id": "c9d56a46",
   "metadata": {},
   "outputs": [
    {
     "data": {
      "text/plain": [
       "b'<a\\n    href=\\'https://docs.djangoproject.com/en/5.2/intro/tutorial02/\\'>https://docs.djangoproject.com/en/5.2/intro/tutorial02/</a>\\n<br>Hello,\\nworld. You\\'re at the polls index.\\n\\n\\n<ul>\\n    \\n    <li><a href=\"/polls/1/\">What&#x27;s up?</a></li>\\n    \\n</ul>\\n\\n'"
      ]
     },
     "execution_count": 9,
     "metadata": {},
     "output_type": "execute_result"
    }
   ],
   "source": [
    "response.content"
   ]
  },
  {
   "cell_type": "code",
   "execution_count": 10,
   "id": "12ca890c",
   "metadata": {},
   "outputs": [
    {
     "data": {
      "text/plain": [
       "{'paginator': None,\n",
       " 'page_obj': None,\n",
       " 'is_paginated': False,\n",
       " 'object_list': <QuerySet [<Question: What's up?>]>,\n",
       " 'latest_question_list': <QuerySet [<Question: What's up?>]>,\n",
       " 'view': <bio_polls.views.IndexView at 0x1608c380c20>}"
      ]
     },
     "execution_count": 10,
     "metadata": {},
     "output_type": "execute_result"
    }
   ],
   "source": [
    "response.context_data"
   ]
  }
 ],
 "metadata": {
  "kernelspec": {
   "display_name": ".venv",
   "language": "python",
   "name": "python3"
  },
  "language_info": {
   "codemirror_mode": {
    "name": "ipython",
    "version": 3
   },
   "file_extension": ".py",
   "mimetype": "text/x-python",
   "name": "python",
   "nbconvert_exporter": "python",
   "pygments_lexer": "ipython3",
   "version": "3.13.1"
  }
 },
 "nbformat": 4,
 "nbformat_minor": 5
}
