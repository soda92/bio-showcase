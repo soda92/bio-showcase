{
 "cells": [
  {
   "cell_type": "code",
   "execution_count": 1,
   "id": "a71f3ef6",
   "metadata": {},
   "outputs": [],
   "source": [
    "import os\n",
    "os.environ[\"DJANGO_SETTINGS_MODULE\"] = \"bio_showcase.settings\"\n",
    "os.environ[\"DJANGO_ALLOW_ASYNC_UNSAFE\"] = \"true\"\n",
    "import django\n",
    "django.setup()"
   ]
  },
  {
   "cell_type": "code",
   "execution_count": 2,
   "id": "a1599872",
   "metadata": {},
   "outputs": [],
   "source": [
    "from bio_polls.models import Question"
   ]
  },
  {
   "cell_type": "code",
   "execution_count": 3,
   "id": "1976fb8e",
   "metadata": {},
   "outputs": [
    {
     "data": {
      "text/plain": [
       "<QuerySet [<Question: What's up?>]>"
      ]
     },
     "execution_count": 3,
     "metadata": {},
     "output_type": "execute_result"
    }
   ],
   "source": [
    "Question.objects.all()"
   ]
  },
  {
   "cell_type": "code",
   "execution_count": 4,
   "id": "a063f763",
   "metadata": {},
   "outputs": [
    {
     "data": {
      "text/plain": [
       "<QuerySet [<Question: What's up?>]>"
      ]
     },
     "execution_count": 4,
     "metadata": {},
     "output_type": "execute_result"
    }
   ],
   "source": [
    "Question.objects.filter(id=1)"
   ]
  },
  {
   "cell_type": "code",
   "execution_count": 6,
   "id": "10522a84",
   "metadata": {},
   "outputs": [
    {
     "data": {
      "text/plain": [
       "<django.db.models.fields.related_descriptors.create_reverse_many_to_one_manager.<locals>.RelatedManager at 0x16a1dc7c050>"
      ]
     },
     "execution_count": 6,
     "metadata": {},
     "output_type": "execute_result"
    }
   ],
   "source": [
    "a = Question.objects.filter(id=1)[0]\n",
    "a.choice_set"
   ]
  },
  {
   "cell_type": "code",
   "execution_count": 13,
   "id": "4cba3ecb",
   "metadata": {},
   "outputs": [
    {
     "data": {
      "text/plain": [
       "<QuerySet [<Question: What's up?>]>"
      ]
     },
     "execution_count": 13,
     "metadata": {},
     "output_type": "execute_result"
    }
   ],
   "source": [
    "Question.objects.filter(question_text__startswith=\"What\")"
   ]
  },
  {
   "cell_type": "code",
   "execution_count": 14,
   "id": "04b14366",
   "metadata": {},
   "outputs": [],
   "source": [
    "from django.utils import timezone"
   ]
  },
  {
   "cell_type": "code",
   "execution_count": 15,
   "id": "e1aa2750",
   "metadata": {},
   "outputs": [
    {
     "data": {
      "text/plain": [
       "<Question: What's up?>"
      ]
     },
     "execution_count": 15,
     "metadata": {},
     "output_type": "execute_result"
    }
   ],
   "source": [
    "current_year = timezone.now().year\n",
    "Question.objects.get(pub_date__year=current_year)"
   ]
  },
  {
   "cell_type": "code",
   "execution_count": 16,
   "id": "df718a50",
   "metadata": {},
   "outputs": [
    {
     "ename": "DoesNotExist",
     "evalue": "Question matching query does not exist.",
     "output_type": "error",
     "traceback": [
      "\u001b[31m---------------------------------------------------------------------------\u001b[39m",
      "\u001b[31mDoesNotExist\u001b[39m                              Traceback (most recent call last)",
      "\u001b[36mCell\u001b[39m\u001b[36m \u001b[39m\u001b[32mIn[16]\u001b[39m\u001b[32m, line 1\u001b[39m\n\u001b[32m----> \u001b[39m\u001b[32m1\u001b[39m \u001b[43mQuestion\u001b[49m\u001b[43m.\u001b[49m\u001b[43mobjects\u001b[49m\u001b[43m.\u001b[49m\u001b[43mget\u001b[49m\u001b[43m(\u001b[49m\u001b[38;5;28;43mid\u001b[39;49m\u001b[43m=\u001b[49m\u001b[32;43m2\u001b[39;49m\u001b[43m)\u001b[49m\n",
      "\u001b[36mFile \u001b[39m\u001b[32mc:\\src\\bio-showcase\\.venv\\Lib\\site-packages\\django\\db\\models\\manager.py:87\u001b[39m, in \u001b[36mBaseManager._get_queryset_methods.<locals>.create_method.<locals>.manager_method\u001b[39m\u001b[34m(self, *args, **kwargs)\u001b[39m\n\u001b[32m     85\u001b[39m \u001b[38;5;129m@wraps\u001b[39m(method)\n\u001b[32m     86\u001b[39m \u001b[38;5;28;01mdef\u001b[39;00m\u001b[38;5;250m \u001b[39m\u001b[34mmanager_method\u001b[39m(\u001b[38;5;28mself\u001b[39m, *args, **kwargs):\n\u001b[32m---> \u001b[39m\u001b[32m87\u001b[39m     \u001b[38;5;28;01mreturn\u001b[39;00m \u001b[38;5;28;43mgetattr\u001b[39;49m\u001b[43m(\u001b[49m\u001b[38;5;28;43mself\u001b[39;49m\u001b[43m.\u001b[49m\u001b[43mget_queryset\u001b[49m\u001b[43m(\u001b[49m\u001b[43m)\u001b[49m\u001b[43m,\u001b[49m\u001b[43m \u001b[49m\u001b[43mname\u001b[49m\u001b[43m)\u001b[49m\u001b[43m(\u001b[49m\u001b[43m*\u001b[49m\u001b[43margs\u001b[49m\u001b[43m,\u001b[49m\u001b[43m \u001b[49m\u001b[43m*\u001b[49m\u001b[43m*\u001b[49m\u001b[43mkwargs\u001b[49m\u001b[43m)\u001b[49m\n",
      "\u001b[36mFile \u001b[39m\u001b[32mc:\\src\\bio-showcase\\.venv\\Lib\\site-packages\\django\\db\\models\\query.py:633\u001b[39m, in \u001b[36mQuerySet.get\u001b[39m\u001b[34m(self, *args, **kwargs)\u001b[39m\n\u001b[32m    631\u001b[39m     \u001b[38;5;28;01mreturn\u001b[39;00m clone._result_cache[\u001b[32m0\u001b[39m]\n\u001b[32m    632\u001b[39m \u001b[38;5;28;01mif\u001b[39;00m \u001b[38;5;129;01mnot\u001b[39;00m num:\n\u001b[32m--> \u001b[39m\u001b[32m633\u001b[39m     \u001b[38;5;28;01mraise\u001b[39;00m \u001b[38;5;28mself\u001b[39m.model.DoesNotExist(\n\u001b[32m    634\u001b[39m         \u001b[33m\"\u001b[39m\u001b[38;5;132;01m%s\u001b[39;00m\u001b[33m matching query does not exist.\u001b[39m\u001b[33m\"\u001b[39m % \u001b[38;5;28mself\u001b[39m.model._meta.object_name\n\u001b[32m    635\u001b[39m     )\n\u001b[32m    636\u001b[39m \u001b[38;5;28;01mraise\u001b[39;00m \u001b[38;5;28mself\u001b[39m.model.MultipleObjectsReturned(\n\u001b[32m    637\u001b[39m     \u001b[33m\"\u001b[39m\u001b[33mget() returned more than one \u001b[39m\u001b[38;5;132;01m%s\u001b[39;00m\u001b[33m -- it returned \u001b[39m\u001b[38;5;132;01m%s\u001b[39;00m\u001b[33m!\u001b[39m\u001b[33m\"\u001b[39m\n\u001b[32m    638\u001b[39m     % (\n\u001b[32m   (...)\u001b[39m\u001b[32m    641\u001b[39m     )\n\u001b[32m    642\u001b[39m )\n",
      "\u001b[31mDoesNotExist\u001b[39m: Question matching query does not exist."
     ]
    }
   ],
   "source": [
    "Question.objects.get(id=2)"
   ]
  },
  {
   "cell_type": "code",
   "execution_count": 17,
   "id": "e1b68fa6",
   "metadata": {},
   "outputs": [
    {
     "data": {
      "text/plain": [
       "<Question: What's up?>"
      ]
     },
     "execution_count": 17,
     "metadata": {},
     "output_type": "execute_result"
    }
   ],
   "source": [
    "Question.objects.get(pk=1)"
   ]
  },
  {
   "cell_type": "code",
   "execution_count": 18,
   "id": "ddaddbee",
   "metadata": {},
   "outputs": [],
   "source": [
    "q = Question.objects.get(pk=1)"
   ]
  },
  {
   "cell_type": "code",
   "execution_count": 19,
   "id": "ed15a2de",
   "metadata": {},
   "outputs": [
    {
     "data": {
      "text/plain": [
       "True"
      ]
     },
     "execution_count": 19,
     "metadata": {},
     "output_type": "execute_result"
    }
   ],
   "source": [
    "q.was_published_recently()"
   ]
  },
  {
   "cell_type": "code",
   "execution_count": 20,
   "id": "366644d5",
   "metadata": {},
   "outputs": [
    {
     "data": {
      "text/plain": [
       "<QuerySet []>"
      ]
     },
     "execution_count": 20,
     "metadata": {},
     "output_type": "execute_result"
    }
   ],
   "source": [
    "q.choice_set.all()"
   ]
  },
  {
   "cell_type": "code",
   "execution_count": 21,
   "id": "7a16f40f",
   "metadata": {},
   "outputs": [
    {
     "data": {
      "text/plain": [
       "<Choice: Not much>"
      ]
     },
     "execution_count": 21,
     "metadata": {},
     "output_type": "execute_result"
    }
   ],
   "source": [
    "q.choice_set.create(choice_text=\"Not much\", votes=0)"
   ]
  },
  {
   "cell_type": "code",
   "execution_count": 22,
   "id": "b5282f3e",
   "metadata": {},
   "outputs": [
    {
     "data": {
      "text/plain": [
       "<Choice: The sky>"
      ]
     },
     "execution_count": 22,
     "metadata": {},
     "output_type": "execute_result"
    }
   ],
   "source": [
    "q.choice_set.create(choice_text=\"The sky\", votes=0)"
   ]
  },
  {
   "cell_type": "code",
   "execution_count": 23,
   "id": "10388bb0",
   "metadata": {},
   "outputs": [],
   "source": [
    "c = q.choice_set.create(choice_text=\"Just kacking\", votes=0)"
   ]
  },
  {
   "cell_type": "code",
   "execution_count": 24,
   "id": "00d5e8f7",
   "metadata": {},
   "outputs": [
    {
     "data": {
      "text/plain": [
       "<Question: What's up?>"
      ]
     },
     "execution_count": 24,
     "metadata": {},
     "output_type": "execute_result"
    }
   ],
   "source": [
    "c.question"
   ]
  },
  {
   "cell_type": "code",
   "execution_count": 25,
   "id": "ec3ed639",
   "metadata": {},
   "outputs": [
    {
     "data": {
      "text/plain": [
       "<QuerySet [<Choice: Not much>, <Choice: The sky>, <Choice: Just kacking>]>"
      ]
     },
     "execution_count": 25,
     "metadata": {},
     "output_type": "execute_result"
    }
   ],
   "source": [
    "q.choice_set.all()"
   ]
  },
  {
   "cell_type": "code",
   "execution_count": 26,
   "id": "b33ab552",
   "metadata": {},
   "outputs": [
    {
     "data": {
      "text/plain": [
       "3"
      ]
     },
     "execution_count": 26,
     "metadata": {},
     "output_type": "execute_result"
    }
   ],
   "source": [
    "q.choice_set.count()"
   ]
  },
  {
   "cell_type": "code",
   "execution_count": 27,
   "id": "d9166491",
   "metadata": {},
   "outputs": [],
   "source": [
    "from bio_polls.models import Choice"
   ]
  },
  {
   "cell_type": "code",
   "execution_count": 28,
   "id": "4084f2fb",
   "metadata": {},
   "outputs": [
    {
     "data": {
      "text/plain": [
       "<QuerySet [<Choice: Not much>, <Choice: The sky>, <Choice: Just kacking>]>"
      ]
     },
     "execution_count": 28,
     "metadata": {},
     "output_type": "execute_result"
    }
   ],
   "source": [
    "Choice.objects.filter(question__pub_date__year=current_year)"
   ]
  },
  {
   "cell_type": "code",
   "execution_count": 31,
   "id": "efa0ec0f",
   "metadata": {},
   "outputs": [],
   "source": [
    "c = q.choice_set.filter(choice_text__startswith=\"Just kacking\")"
   ]
  },
  {
   "cell_type": "code",
   "execution_count": 32,
   "id": "6d47e157",
   "metadata": {},
   "outputs": [
    {
     "data": {
      "text/plain": [
       "<QuerySet [<Choice: Just kacking>]>"
      ]
     },
     "execution_count": 32,
     "metadata": {},
     "output_type": "execute_result"
    }
   ],
   "source": [
    "c"
   ]
  },
  {
   "cell_type": "code",
   "execution_count": 34,
   "id": "012db7dc",
   "metadata": {},
   "outputs": [
    {
     "data": {
      "text/plain": [
       "(1, {'bio_polls.Choice': 1})"
      ]
     },
     "execution_count": 34,
     "metadata": {},
     "output_type": "execute_result"
    }
   ],
   "source": [
    "c.delete()"
   ]
  },
  {
   "cell_type": "code",
   "execution_count": null,
   "id": "ca601157",
   "metadata": {},
   "outputs": [],
   "source": []
  }
 ],
 "metadata": {
  "kernelspec": {
   "display_name": ".venv",
   "language": "python",
   "name": "python3"
  },
  "language_info": {
   "codemirror_mode": {
    "name": "ipython",
    "version": 3
   },
   "file_extension": ".py",
   "mimetype": "text/x-python",
   "name": "python",
   "nbconvert_exporter": "python",
   "pygments_lexer": "ipython3",
   "version": "3.13.1"
  }
 },
 "nbformat": 4,
 "nbformat_minor": 5
}
